{
 "cells": [
  {
   "cell_type": "code",
   "execution_count": 1,
   "metadata": {},
   "outputs": [],
   "source": [
    "import parselmouth\n",
    "import pandas as pd\n",
    "from os import listdir\n",
    "import os"
   ]
  },
  {
   "cell_type": "markdown",
   "metadata": {},
   "source": [
    "### 음원파일 하나만 추출하기"
   ]
  },
  {
   "cell_type": "code",
   "execution_count": 22,
   "metadata": {},
   "outputs": [],
   "source": [
    "path = './A.wav'"
   ]
  },
  {
   "cell_type": "code",
   "execution_count": 23,
   "metadata": {},
   "outputs": [],
   "source": [
    "wav = parselmouth.Sound(path)"
   ]
  },
  {
   "cell_type": "code",
   "execution_count": 24,
   "metadata": {},
   "outputs": [],
   "source": [
    "formant = wav.to_formant_burg(time_step = 0.01)\n",
    "pitch = wav.to_pitch()\n",
    "intensity = wav.to_intensity()\n",
    "df = pd.DataFrame({\"times\":formant.ts()})"
   ]
  },
  {
   "cell_type": "code",
   "execution_count": 25,
   "metadata": {},
   "outputs": [],
   "source": [
    "formants_value = ['F1','F2',\"F3\",\"F4\",\"F5\"]\n",
    "for idx, col in enumerate(formants_value, 1):\n",
    "    df[col] = df['times'].map(lambda x: formant.get_value_at_time(formant_number = idx, time = x))"
   ]
  },
  {
   "cell_type": "code",
   "execution_count": 26,
   "metadata": {},
   "outputs": [],
   "source": [
    "df['F0(pitch)'] = df['times'].map(lambda x: pitch.get_value_at_time(time = x))"
   ]
  },
  {
   "cell_type": "code",
   "execution_count": 28,
   "metadata": {},
   "outputs": [],
   "source": [
    "df['intensity'] = df['times'].map(lambda x: intensity.get_value(time = x))"
   ]
  },
  {
   "cell_type": "code",
   "execution_count": 29,
   "metadata": {},
   "outputs": [],
   "source": [
    "df['filename'] = path.split(sep='/')[-1]"
   ]
  },
  {
   "cell_type": "code",
   "execution_count": 30,
   "metadata": {},
   "outputs": [],
   "source": [
    "data = pd.DataFrame({\n",
    "    \"times\":[],\n",
    "    \"intensity\":[],\n",
    "    \"F0(pitch)\":[],\n",
    "    \"F1\":[],\n",
    "    \"F2\":[],\n",
    "    'F3':[],\n",
    "    \"F4\":[],\n",
    "    \"F5\":[],\n",
    "    \"filename\":[]\n",
    "    })"
   ]
  },
  {
   "cell_type": "code",
   "execution_count": 31,
   "metadata": {},
   "outputs": [],
   "source": [
    "data = data.append(df)"
   ]
  },
  {
   "cell_type": "code",
   "execution_count": 32,
   "metadata": {},
   "outputs": [
    {
     "data": {
      "text/html": [
       "<div>\n",
       "<style scoped>\n",
       "    .dataframe tbody tr th:only-of-type {\n",
       "        vertical-align: middle;\n",
       "    }\n",
       "\n",
       "    .dataframe tbody tr th {\n",
       "        vertical-align: top;\n",
       "    }\n",
       "\n",
       "    .dataframe thead th {\n",
       "        text-align: right;\n",
       "    }\n",
       "</style>\n",
       "<table border=\"1\" class=\"dataframe\">\n",
       "  <thead>\n",
       "    <tr style=\"text-align: right;\">\n",
       "      <th></th>\n",
       "      <th>F0(pitch)</th>\n",
       "      <th>F1</th>\n",
       "      <th>F2</th>\n",
       "      <th>F3</th>\n",
       "      <th>F4</th>\n",
       "      <th>F5</th>\n",
       "      <th>filename</th>\n",
       "      <th>intensity</th>\n",
       "      <th>times</th>\n",
       "    </tr>\n",
       "  </thead>\n",
       "  <tbody>\n",
       "    <tr>\n",
       "      <td>0</td>\n",
       "      <td>NaN</td>\n",
       "      <td>1289.823946</td>\n",
       "      <td>2641.561349</td>\n",
       "      <td>3981.386899</td>\n",
       "      <td>NaN</td>\n",
       "      <td>NaN</td>\n",
       "      <td>A.wav</td>\n",
       "      <td>NaN</td>\n",
       "      <td>0.027562</td>\n",
       "    </tr>\n",
       "    <tr>\n",
       "      <td>1</td>\n",
       "      <td>NaN</td>\n",
       "      <td>172.569872</td>\n",
       "      <td>1242.880880</td>\n",
       "      <td>2568.108408</td>\n",
       "      <td>3855.436700</td>\n",
       "      <td>NaN</td>\n",
       "      <td>A.wav</td>\n",
       "      <td>62.161282</td>\n",
       "      <td>0.037562</td>\n",
       "    </tr>\n",
       "    <tr>\n",
       "      <td>2</td>\n",
       "      <td>111.151678</td>\n",
       "      <td>204.694697</td>\n",
       "      <td>1287.598819</td>\n",
       "      <td>2566.465954</td>\n",
       "      <td>3721.191345</td>\n",
       "      <td>NaN</td>\n",
       "      <td>A.wav</td>\n",
       "      <td>67.339919</td>\n",
       "      <td>0.047562</td>\n",
       "    </tr>\n",
       "    <tr>\n",
       "      <td>3</td>\n",
       "      <td>111.792167</td>\n",
       "      <td>216.094525</td>\n",
       "      <td>1197.457264</td>\n",
       "      <td>2512.841378</td>\n",
       "      <td>3254.813238</td>\n",
       "      <td>NaN</td>\n",
       "      <td>A.wav</td>\n",
       "      <td>70.134020</td>\n",
       "      <td>0.057562</td>\n",
       "    </tr>\n",
       "    <tr>\n",
       "      <td>4</td>\n",
       "      <td>112.821003</td>\n",
       "      <td>218.721843</td>\n",
       "      <td>1125.613062</td>\n",
       "      <td>2497.849602</td>\n",
       "      <td>3009.475505</td>\n",
       "      <td>NaN</td>\n",
       "      <td>A.wav</td>\n",
       "      <td>71.427579</td>\n",
       "      <td>0.067562</td>\n",
       "    </tr>\n",
       "    <tr>\n",
       "      <td>...</td>\n",
       "      <td>...</td>\n",
       "      <td>...</td>\n",
       "      <td>...</td>\n",
       "      <td>...</td>\n",
       "      <td>...</td>\n",
       "      <td>...</td>\n",
       "      <td>...</td>\n",
       "      <td>...</td>\n",
       "      <td>...</td>\n",
       "    </tr>\n",
       "    <tr>\n",
       "      <td>773</td>\n",
       "      <td>NaN</td>\n",
       "      <td>1703.256644</td>\n",
       "      <td>2924.923577</td>\n",
       "      <td>5433.791060</td>\n",
       "      <td>NaN</td>\n",
       "      <td>NaN</td>\n",
       "      <td>A.wav</td>\n",
       "      <td>-300.000000</td>\n",
       "      <td>7.757562</td>\n",
       "    </tr>\n",
       "    <tr>\n",
       "      <td>774</td>\n",
       "      <td>NaN</td>\n",
       "      <td>1701.743828</td>\n",
       "      <td>2923.173739</td>\n",
       "      <td>5433.448861</td>\n",
       "      <td>NaN</td>\n",
       "      <td>NaN</td>\n",
       "      <td>A.wav</td>\n",
       "      <td>-300.000000</td>\n",
       "      <td>7.767562</td>\n",
       "    </tr>\n",
       "    <tr>\n",
       "      <td>775</td>\n",
       "      <td>NaN</td>\n",
       "      <td>1721.558789</td>\n",
       "      <td>2922.972183</td>\n",
       "      <td>5433.834597</td>\n",
       "      <td>NaN</td>\n",
       "      <td>NaN</td>\n",
       "      <td>A.wav</td>\n",
       "      <td>-300.000000</td>\n",
       "      <td>7.777562</td>\n",
       "    </tr>\n",
       "    <tr>\n",
       "      <td>776</td>\n",
       "      <td>NaN</td>\n",
       "      <td>1719.620925</td>\n",
       "      <td>2923.020409</td>\n",
       "      <td>5433.514627</td>\n",
       "      <td>NaN</td>\n",
       "      <td>NaN</td>\n",
       "      <td>A.wav</td>\n",
       "      <td>-300.000000</td>\n",
       "      <td>7.787562</td>\n",
       "    </tr>\n",
       "    <tr>\n",
       "      <td>777</td>\n",
       "      <td>NaN</td>\n",
       "      <td>1707.621899</td>\n",
       "      <td>2925.397380</td>\n",
       "      <td>5433.633457</td>\n",
       "      <td>NaN</td>\n",
       "      <td>NaN</td>\n",
       "      <td>A.wav</td>\n",
       "      <td>NaN</td>\n",
       "      <td>7.797562</td>\n",
       "    </tr>\n",
       "  </tbody>\n",
       "</table>\n",
       "<p>778 rows × 9 columns</p>\n",
       "</div>"
      ],
      "text/plain": [
       "      F0(pitch)           F1           F2           F3           F4  F5  \\\n",
       "0           NaN  1289.823946  2641.561349  3981.386899          NaN NaN   \n",
       "1           NaN   172.569872  1242.880880  2568.108408  3855.436700 NaN   \n",
       "2    111.151678   204.694697  1287.598819  2566.465954  3721.191345 NaN   \n",
       "3    111.792167   216.094525  1197.457264  2512.841378  3254.813238 NaN   \n",
       "4    112.821003   218.721843  1125.613062  2497.849602  3009.475505 NaN   \n",
       "..          ...          ...          ...          ...          ...  ..   \n",
       "773         NaN  1703.256644  2924.923577  5433.791060          NaN NaN   \n",
       "774         NaN  1701.743828  2923.173739  5433.448861          NaN NaN   \n",
       "775         NaN  1721.558789  2922.972183  5433.834597          NaN NaN   \n",
       "776         NaN  1719.620925  2923.020409  5433.514627          NaN NaN   \n",
       "777         NaN  1707.621899  2925.397380  5433.633457          NaN NaN   \n",
       "\n",
       "    filename   intensity     times  \n",
       "0      A.wav         NaN  0.027562  \n",
       "1      A.wav   62.161282  0.037562  \n",
       "2      A.wav   67.339919  0.047562  \n",
       "3      A.wav   70.134020  0.057562  \n",
       "4      A.wav   71.427579  0.067562  \n",
       "..       ...         ...       ...  \n",
       "773    A.wav -300.000000  7.757562  \n",
       "774    A.wav -300.000000  7.767562  \n",
       "775    A.wav -300.000000  7.777562  \n",
       "776    A.wav -300.000000  7.787562  \n",
       "777    A.wav         NaN  7.797562  \n",
       "\n",
       "[778 rows x 9 columns]"
      ]
     },
     "execution_count": 32,
     "metadata": {},
     "output_type": "execute_result"
    }
   ],
   "source": [
    "data"
   ]
  },
  {
   "cell_type": "code",
   "execution_count": 33,
   "metadata": {},
   "outputs": [],
   "source": [
    "data.to_csv('finish.csv')"
   ]
  },
  {
   "cell_type": "code",
   "execution_count": null,
   "metadata": {},
   "outputs": [],
   "source": []
  },
  {
   "cell_type": "markdown",
   "metadata": {},
   "source": [
    "### 음원파일 여러개 추출하기"
   ]
  },
  {
   "cell_type": "code",
   "execution_count": 2,
   "metadata": {},
   "outputs": [],
   "source": [
    "data_path = './wav/'"
   ]
  },
  {
   "cell_type": "code",
   "execution_count": 3,
   "metadata": {},
   "outputs": [],
   "source": [
    "files = listdir(data_path)"
   ]
  },
  {
   "cell_type": "code",
   "execution_count": 4,
   "metadata": {},
   "outputs": [
    {
     "name": "stderr",
     "output_type": "stream",
     "text": [
      "C:\\Users\\reijin1105\\AppData\\Local\\Continuum\\anaconda3\\lib\\site-packages\\pandas\\core\\frame.py:7123: FutureWarning: Sorting because non-concatenation axis is not aligned. A future version\n",
      "of pandas will change to not sort by default.\n",
      "\n",
      "To accept the future behavior, pass 'sort=False'.\n",
      "\n",
      "To retain the current behavior and silence the warning, pass 'sort=True'.\n",
      "\n",
      "  sort=sort,\n"
     ]
    }
   ],
   "source": [
    "for i in files:\n",
    "    path = data_path+i\n",
    "    \n",
    "    wav = parselmouth.Sound(path)\n",
    "    \n",
    "    formant = wav.to_formant_burg(time_step = 0.01)\n",
    "    pitch = wav.to_pitch()\n",
    "    \n",
    "    df = pd.DataFrame({\"times\":formant.ts()})\n",
    "    \n",
    "    formants_value = ['F1','F2',\"F3\",\"F4\",\"F5\"]\n",
    "    \n",
    "    for idx, col in enumerate(formants_value, 1):\n",
    "        df[col] = df['times'].map(lambda x: formant.get_value_at_time(formant_number = idx, time = x))\n",
    "    \n",
    "    df['F0(pitch)'] = df['times'].map(lambda x: pitch.get_value_at_time(time = x))\n",
    "    df['filename'] = path.split(sep='/')[-1]\n",
    "    \n",
    "    data = pd.DataFrame({\n",
    "    \"times\":[],\n",
    "    \"F0(pitch)\":[],\n",
    "    \"F1\":[],\n",
    "    \"F2\":[],\n",
    "    'F3':[],\n",
    "    \"F4\":[],\n",
    "    \"F5\":[],\n",
    "    \"filename\":[]\n",
    "    })\n",
    "    \n",
    "    data = data.append(df)\n",
    "    file_nm = i.split(sep='.')[0]\n",
    "    data.to_csv(file_nm+'.csv')"
   ]
  },
  {
   "cell_type": "markdown",
   "metadata": {},
   "source": [
    "### pitch 취합"
   ]
  },
  {
   "cell_type": "code",
   "execution_count": 5,
   "metadata": {},
   "outputs": [],
   "source": [
    "import os\n",
    "import pandas as pd\n",
    "from tqdm import tqdm\n",
    "from os import listdir\n",
    "from os.path import isfile, join\n",
    "import re\n",
    "import numpy as np"
   ]
  },
  {
   "cell_type": "code",
   "execution_count": 6,
   "metadata": {},
   "outputs": [],
   "source": [
    "files = listdir('./pitch/')"
   ]
  },
  {
   "cell_type": "code",
   "execution_count": 8,
   "metadata": {},
   "outputs": [
    {
     "name": "stderr",
     "output_type": "stream",
     "text": [
      "100%|██████████████████████████████████████████████████████████████████████████████| 108/108 [00:00<00:00, 1269.78it/s]\n"
     ]
    }
   ],
   "source": [
    "pitch_total = []\n",
    "\n",
    "for i in tqdm(files, mininterval=1):\n",
    "    f = open(\"./pitch/\"+i, 'r')\n",
    "    while True:\n",
    "        line = f.readline()\n",
    "        if not line: break\n",
    "        pitch_total.append(line.strip('\\n'))\n",
    "    f.close()"
   ]
  },
  {
   "cell_type": "code",
   "execution_count": 9,
   "metadata": {},
   "outputs": [
    {
     "name": "stdout",
     "output_type": "stream",
     "text": [
      "9490\n"
     ]
    },
    {
     "data": {
      "text/plain": [
       "'0,,866.7535823251402,1370.911121895911,2780.3132521168036,4030.810862919627,5059.537271035249,VCTK_FemaleP225_001.wav,0.029399092970521512'"
      ]
     },
     "execution_count": 9,
     "metadata": {},
     "output_type": "execute_result"
    }
   ],
   "source": [
    "print(len(pitch_total))\n",
    "pitch_total[1]"
   ]
  },
  {
   "cell_type": "code",
   "execution_count": 10,
   "metadata": {},
   "outputs": [],
   "source": [
    "pitch_total_df = pd.DataFrame(pitch_total)"
   ]
  },
  {
   "cell_type": "code",
   "execution_count": 11,
   "metadata": {},
   "outputs": [],
   "source": [
    "pitch_total_df.to_csv('./pitch_취합.csv')"
   ]
  },
  {
   "cell_type": "code",
   "execution_count": null,
   "metadata": {},
   "outputs": [],
   "source": []
  }
 ],
 "metadata": {
  "kernelspec": {
   "display_name": "Python 3",
   "language": "python",
   "name": "python3"
  },
  "language_info": {
   "codemirror_mode": {
    "name": "ipython",
    "version": 3
   },
   "file_extension": ".py",
   "mimetype": "text/x-python",
   "name": "python",
   "nbconvert_exporter": "python",
   "pygments_lexer": "ipython3",
   "version": "3.8.5"
  }
 },
 "nbformat": 4,
 "nbformat_minor": 4
}
